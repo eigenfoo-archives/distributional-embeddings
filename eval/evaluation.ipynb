{
 "cells": [
  {
   "cell_type": "code",
   "execution_count": 1,
   "metadata": {},
   "outputs": [],
   "source": [
    "import pickle\n",
    "import numpy as np\n",
    "from sklearn.neighbors import NearestNeighbors"
   ]
  },
  {
   "cell_type": "markdown",
   "metadata": {},
   "source": [
    "## Read in Embeddings and Word Dictionary"
   ]
  },
  {
   "cell_type": "code",
   "execution_count": 2,
   "metadata": {},
   "outputs": [],
   "source": [
    "mus = np.load('../src/mu.npy')\n",
    "sigmas = np.load('../src/sigma.npy')\n",
    "word_dictionary = pickle.load(open('../src/brown_data.pkl', 'rb'), encoding='latin1')\n",
    "reversed_word_dictionary = {value: key for key, value in word_dictionary.items()}"
   ]
  },
  {
   "cell_type": "code",
   "execution_count": 3,
   "metadata": {
    "scrolled": true
   },
   "outputs": [
    {
     "name": "stdout",
     "output_type": "stream",
     "text": [
      "Shape of mus: (4798, 20)\n",
      "Shape of sigmas: (4798, 20)\n",
      "Vocabulary size: 4797\n"
     ]
    }
   ],
   "source": [
    "print('Shape of mus: {}'.format(mus.shape))\n",
    "print('Shape of sigmas: {}'.format(sigmas.shape))\n",
    "print('Vocabulary size: {}'.format(len(word_dictionary)))"
   ]
  },
  {
   "cell_type": "code",
   "execution_count": 4,
   "metadata": {},
   "outputs": [],
   "source": [
    "# Sanity check\n",
    "assert not (np.isnan(mus).any() or np.isnan(sigmas).any())"
   ]
  },
  {
   "cell_type": "markdown",
   "metadata": {},
   "source": [
    "## Compare Variance and Variance of Means"
   ]
  },
  {
   "cell_type": "code",
   "execution_count": 5,
   "metadata": {},
   "outputs": [
    {
     "data": {
      "text/plain": [
       "4.520281124838116"
      ]
     },
     "execution_count": 5,
     "metadata": {},
     "output_type": "execute_result"
    }
   ],
   "source": [
    "# Covariance of means\n",
    "np.linalg.norm(np.cov(mus.T))"
   ]
  },
  {
   "cell_type": "code",
   "execution_count": 6,
   "metadata": {},
   "outputs": [
    {
     "data": {
      "text/plain": [
       "2.244952"
      ]
     },
     "execution_count": 6,
     "metadata": {},
     "output_type": "execute_result"
    }
   ],
   "source": [
    "# Mean of covariances\n",
    "np.linalg.norm(np.mean(sigmas, axis=0))"
   ]
  },
  {
   "cell_type": "markdown",
   "metadata": {},
   "source": [
    "## kNN Analysis"
   ]
  },
  {
   "cell_type": "code",
   "execution_count": 7,
   "metadata": {},
   "outputs": [],
   "source": [
    "knn = NearestNeighbors(n_neighbors=10).fit(mus)"
   ]
  },
  {
   "cell_type": "code",
   "execution_count": 24,
   "metadata": {},
   "outputs": [
    {
     "name": "stdout",
     "output_type": "stream",
     "text": [
      "politics\n",
      "di\n",
      "presented\n",
      "helping\n",
      "table\n",
      "rent\n",
      "conscious\n",
      "painful\n",
      "maintaining\n",
      "set\n"
     ]
    }
   ],
   "source": [
    "# Look up word here call it x_not\n",
    "idx = word_dictionary['politics']\n",
    "embedding = mus[idx].reshape(1,-1)\n",
    "distances, indices = knn.kneighbors(embedding)\n",
    "\n",
    "for i in indices.flatten(): \n",
    "    print(reversed_word_dictionary[i])"
   ]
  },
  {
   "cell_type": "code",
   "execution_count": null,
   "metadata": {},
   "outputs": [],
   "source": []
  }
 ],
 "metadata": {
  "kernelspec": {
   "display_name": "Python 3",
   "language": "python",
   "name": "python3"
  },
  "language_info": {
   "codemirror_mode": {
    "name": "ipython",
    "version": 3
   },
   "file_extension": ".py",
   "mimetype": "text/x-python",
   "name": "python",
   "nbconvert_exporter": "python",
   "pygments_lexer": "ipython3",
   "version": "3.6.5"
  }
 },
 "nbformat": 4,
 "nbformat_minor": 2
}
